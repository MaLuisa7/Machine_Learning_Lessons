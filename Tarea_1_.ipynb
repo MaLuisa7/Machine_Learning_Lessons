{
  "nbformat": 4,
  "nbformat_minor": 0,
  "metadata": {
    "colab": {
      "provenance": [],
      "authorship_tag": "ABX9TyPfjdu8Q+rNf1AxP2M7PtF8",
      "include_colab_link": true
    },
    "kernelspec": {
      "name": "python3",
      "display_name": "Python 3"
    },
    "language_info": {
      "name": "python"
    }
  },
  "cells": [
    {
      "cell_type": "markdown",
      "metadata": {
        "id": "view-in-github",
        "colab_type": "text"
      },
      "source": [
        "<a href=\"https://colab.research.google.com/github/MaLuisa7/Machine_Learning_Lessons/blob/main/Tarea_1_.ipynb\" target=\"_parent\"><img src=\"https://colab.research.google.com/assets/colab-badge.svg\" alt=\"Open In Colab\"/></a>"
      ]
    },
    {
      "cell_type": "markdown",
      "source": [
        "# Tarea 1 \n",
        "\n",
        "8 puntos\n",
        "1. Definir un conjunto de datos sobre el que se trabajará durante el curso \n",
        "\n",
        "2. Justificar su elección\n",
        "\n",
        "3. Establecer objetivos a lograr en el curso\n",
        "\n",
        "4. Subir explicación en el repositorio en un cuaderno de Jupyter"
      ],
      "metadata": {
        "id": "uxlEK0qC9X2k"
      }
    },
    {
      "cell_type": "markdown",
      "source": [
        "## Respuestas\n",
        "\n",
        "1. El conjunto de datos con el que trabajaré será con acciones de la bolsa de valores, la accion S&P 500, los datos se pueden bajar directamente de la web.\n",
        "\n",
        "2. He realizado ejercicios con diferentes acciones y son datos que se me hacen muy interesantes ya que aplicando diferentes técnicas estadísticas es posible analizar si es una decisión invertir en esa acción, ya que se pueden realizar diversas actividades como vender, comprar o mantenrse con cierto grado de confianza y dependiendo del objetivo que se tenga tomar la decisión. Actualmente el trading es un tema que ha ganado popularidad y me gustaría entenderlo mejor.\n",
        "\n",
        " En el siguiente paper [Algorithmic Financial Trading with Deep Convolutional Neural Networks: Time Series to Image Conversion Approach]( https://www.researchgate.net/publication/324802031_Algorithmic_Financial_Trading_with_Deep_Convolutional_Neural_Networks_Time_Series_to_Image_Conversion_Approach) se puede resumir la idea que tengo para esta clase. \n",
        "\n",
        " Tener un algoritmo que nos ayude a invertir con respaldo estadístico es de gran ayuda para los inversionistas brindando mayor visibilidad al dinero que se pone en juego.\n",
        "\n",
        "3. El objetivo principal para este curso es realizar un algoritmo que ayude a los inversionistas a tomar mejores decisiones al momento de invertir. \n",
        "Los objetivos secundarios es poner en práctica la metodología del aprendizaje automático para que un algoritmo funcione correctamente. \n",
        "\n"
      ],
      "metadata": {
        "id": "9uLMNtCK9i1_"
      }
    },
    {
      "cell_type": "code",
      "source": [
        "#!pip install yfinance"
      ],
      "metadata": {
        "colab": {
          "base_uri": "https://localhost:8080/"
        },
        "id": "oUVKGdFiAqTR",
        "outputId": "3b746d01-9d41-473a-a92d-624d83d2cc4d"
      },
      "execution_count": 4,
      "outputs": [
        {
          "output_type": "stream",
          "name": "stdout",
          "text": [
            "Looking in indexes: https://pypi.org/simple, https://us-python.pkg.dev/colab-wheels/public/simple/\n",
            "Collecting yfinance\n",
            "  Downloading yfinance-0.2.4-py2.py3-none-any.whl (51 kB)\n",
            "\u001b[2K     \u001b[90m━━━━━━━━━━━━━━━━━━━━━━━━━━━━━━━━━━━━━━━━\u001b[0m \u001b[32m51.4/51.4 KB\u001b[0m \u001b[31m6.1 MB/s\u001b[0m eta \u001b[36m0:00:00\u001b[0m\n",
            "\u001b[?25hCollecting html5lib>=1.1\n",
            "  Downloading html5lib-1.1-py2.py3-none-any.whl (112 kB)\n",
            "\u001b[2K     \u001b[90m━━━━━━━━━━━━━━━━━━━━━━━━━━━━━━━━━━━━━━\u001b[0m \u001b[32m112.2/112.2 KB\u001b[0m \u001b[31m10.6 MB/s\u001b[0m eta \u001b[36m0:00:00\u001b[0m\n",
            "\u001b[?25hRequirement already satisfied: pytz>=2022.5 in /usr/local/lib/python3.8/dist-packages (from yfinance) (2022.7)\n",
            "Requirement already satisfied: appdirs>=1.4.4 in /usr/local/lib/python3.8/dist-packages (from yfinance) (1.4.4)\n",
            "Collecting beautifulsoup4>=4.11.1\n",
            "  Downloading beautifulsoup4-4.11.1-py3-none-any.whl (128 kB)\n",
            "\u001b[2K     \u001b[90m━━━━━━━━━━━━━━━━━━━━━━━━━━━━━━━━━━━━━━\u001b[0m \u001b[32m128.2/128.2 KB\u001b[0m \u001b[31m14.8 MB/s\u001b[0m eta \u001b[36m0:00:00\u001b[0m\n",
            "\u001b[?25hCollecting requests>=2.26\n",
            "  Downloading requests-2.28.2-py3-none-any.whl (62 kB)\n",
            "\u001b[2K     \u001b[90m━━━━━━━━━━━━━━━━━━━━━━━━━━━━━━━━━━━━━━━━\u001b[0m \u001b[32m62.8/62.8 KB\u001b[0m \u001b[31m7.5 MB/s\u001b[0m eta \u001b[36m0:00:00\u001b[0m\n",
            "\u001b[?25hRequirement already satisfied: lxml>=4.9.1 in /usr/local/lib/python3.8/dist-packages (from yfinance) (4.9.2)\n",
            "Collecting cryptography>=3.3.2\n",
            "  Downloading cryptography-39.0.0-cp36-abi3-manylinux_2_24_x86_64.whl (4.1 MB)\n",
            "\u001b[2K     \u001b[90m━━━━━━━━━━━━━━━━━━━━━━━━━━━━━━━━━━━━━━━━\u001b[0m \u001b[32m4.1/4.1 MB\u001b[0m \u001b[31m61.6 MB/s\u001b[0m eta \u001b[36m0:00:00\u001b[0m\n",
            "\u001b[?25hRequirement already satisfied: multitasking>=0.0.7 in /usr/local/lib/python3.8/dist-packages (from yfinance) (0.0.11)\n",
            "Collecting frozendict>=2.3.4\n",
            "  Downloading frozendict-2.3.4-cp38-cp38-manylinux_2_17_x86_64.manylinux2014_x86_64.whl (110 kB)\n",
            "\u001b[2K     \u001b[90m━━━━━━━━━━━━━━━━━━━━━━━━━━━━━━━━━━━━━━\u001b[0m \u001b[32m111.0/111.0 KB\u001b[0m \u001b[31m14.3 MB/s\u001b[0m eta \u001b[36m0:00:00\u001b[0m\n",
            "\u001b[?25hRequirement already satisfied: pandas>=1.3.0 in /usr/local/lib/python3.8/dist-packages (from yfinance) (1.3.5)\n",
            "Requirement already satisfied: numpy>=1.16.5 in /usr/local/lib/python3.8/dist-packages (from yfinance) (1.21.6)\n",
            "Collecting soupsieve>1.2\n",
            "  Downloading soupsieve-2.3.2.post1-py3-none-any.whl (37 kB)\n",
            "Requirement already satisfied: cffi>=1.12 in /usr/local/lib/python3.8/dist-packages (from cryptography>=3.3.2->yfinance) (1.15.1)\n",
            "Requirement already satisfied: six>=1.9 in /usr/local/lib/python3.8/dist-packages (from html5lib>=1.1->yfinance) (1.15.0)\n",
            "Requirement already satisfied: webencodings in /usr/local/lib/python3.8/dist-packages (from html5lib>=1.1->yfinance) (0.5.1)\n",
            "Requirement already satisfied: python-dateutil>=2.7.3 in /usr/local/lib/python3.8/dist-packages (from pandas>=1.3.0->yfinance) (2.8.2)\n",
            "Requirement already satisfied: urllib3<1.27,>=1.21.1 in /usr/local/lib/python3.8/dist-packages (from requests>=2.26->yfinance) (1.24.3)\n",
            "Requirement already satisfied: charset-normalizer<4,>=2 in /usr/local/lib/python3.8/dist-packages (from requests>=2.26->yfinance) (2.1.1)\n",
            "Requirement already satisfied: idna<4,>=2.5 in /usr/local/lib/python3.8/dist-packages (from requests>=2.26->yfinance) (2.10)\n",
            "Requirement already satisfied: certifi>=2017.4.17 in /usr/local/lib/python3.8/dist-packages (from requests>=2.26->yfinance) (2022.12.7)\n",
            "Requirement already satisfied: pycparser in /usr/local/lib/python3.8/dist-packages (from cffi>=1.12->cryptography>=3.3.2->yfinance) (2.21)\n",
            "Installing collected packages: soupsieve, requests, html5lib, frozendict, cryptography, beautifulsoup4, yfinance\n",
            "  Attempting uninstall: requests\n",
            "    Found existing installation: requests 2.25.1\n",
            "    Uninstalling requests-2.25.1:\n",
            "      Successfully uninstalled requests-2.25.1\n",
            "  Attempting uninstall: html5lib\n",
            "    Found existing installation: html5lib 1.0.1\n",
            "    Uninstalling html5lib-1.0.1:\n",
            "      Successfully uninstalled html5lib-1.0.1\n",
            "  Attempting uninstall: beautifulsoup4\n",
            "    Found existing installation: beautifulsoup4 4.6.3\n",
            "    Uninstalling beautifulsoup4-4.6.3:\n",
            "      Successfully uninstalled beautifulsoup4-4.6.3\n",
            "Successfully installed beautifulsoup4-4.11.1 cryptography-39.0.0 frozendict-2.3.4 html5lib-1.1 requests-2.28.2 soupsieve-2.3.2.post1 yfinance-0.2.4\n"
          ]
        }
      ]
    },
    {
      "cell_type": "code",
      "source": [
        "import pandas as pd\n",
        "import yfinance as yf\n",
        "import numpy as np\n",
        "import matplotlib.pyplot as plt "
      ],
      "metadata": {
        "id": "WRo6MMAvvo0u"
      },
      "execution_count": 5,
      "outputs": []
    },
    {
      "cell_type": "code",
      "source": [
        "ticker = yf.Ticker('SPY')\n",
        "sp500_df = ticker.history(period=\"5y\")\n",
        "sp500_df['Close'].plot(title=\"s & p 500 f's stock price\")"
      ],
      "metadata": {
        "colab": {
          "base_uri": "https://localhost:8080/",
          "height": 303
        },
        "id": "RAyJIKCBAcgL",
        "outputId": "553699cd-43e9-4459-eccc-4181f40f9edd"
      },
      "execution_count": 6,
      "outputs": [
        {
          "output_type": "execute_result",
          "data": {
            "text/plain": [
              "<matplotlib.axes._subplots.AxesSubplot at 0x7efdce009910>"
            ]
          },
          "metadata": {},
          "execution_count": 6
        },
        {
          "output_type": "display_data",
          "data": {
            "text/plain": [
              "<Figure size 432x288 with 1 Axes>"
            ],
            "image/png": "[encoded data removed]"
          },
          "metadata": {
            "needs_background": "light"
          }
        }
      ]
    },
    {
      "cell_type": "code",
      "source": [
        "sp500_df.head()"
      ],
      "metadata": {
        "colab": {
          "base_uri": "https://localhost:8080/",
          "height": 281
        },
        "id": "HckOq0y4wxOB",
        "outputId": "34548cca-3b72-4657-fff0-e303d1ca54b3"
      },
      "execution_count": 8,
      "outputs": [
        {
          "output_type": "execute_result",
          "data": {
            "text/plain": [
              "                                 Open        High         Low       Close  \\\n",
              "Date                                                                        \n",
              "2018-01-16 00:00:00-05:00  256.480603  257.160013  253.570107  254.295441   \n",
              "2018-01-17 00:00:00-05:00  255.268600  257.123219  254.295381  256.719238   \n",
              "2018-01-18 00:00:00-05:00  256.599912  257.040598  255.773570  256.287750   \n",
              "2018-01-19 00:00:00-05:00  256.893660  257.453735  256.287716  257.453735   \n",
              "2018-01-22 00:00:00-05:00  257.233373  259.547058  257.178259  259.547058   \n",
              "\n",
              "                              Volume  Dividends  Stock Splits  Capital Gains  \n",
              "Date                                                                          \n",
              "2018-01-16 00:00:00-05:00  106555100        0.0           0.0            0.0  \n",
              "2018-01-17 00:00:00-05:00  113258800        0.0           0.0            0.0  \n",
              "2018-01-18 00:00:00-05:00  100728000        0.0           0.0            0.0  \n",
              "2018-01-19 00:00:00-05:00  140920100        0.0           0.0            0.0  \n",
              "2018-01-22 00:00:00-05:00   91322400        0.0           0.0            0.0  "
            ],
            "text/html": [
              "\n",
              "  <div id=\"df-e434ce1a-3990-498b-8a82-5538d661da8b\">\n",
              "    <div class=\"colab-df-container\">\n",
              "      <div>\n",
              "<style scoped>\n",
              "    .dataframe tbody tr th:only-of-type {\n",
              "        vertical-align: middle;\n",
              "    }\n",
              "\n",
              "    .dataframe tbody tr th {\n",
              "        vertical-align: top;\n",
              "    }\n",
              "\n",
              "    .dataframe thead th {\n",
              "        text-align: right;\n",
              "    }\n",
              "</style>\n",
              "<table border=\"1\" class=\"dataframe\">\n",
              "  <thead>\n",
              "    <tr style=\"text-align: right;\">\n",
              "      <th></th>\n",
              "      <th>Open</th>\n",
              "      <th>High</th>\n",
              "      <th>Low</th>\n",
              "      <th>Close</th>\n",
              "      <th>Volume</th>\n",
              "      <th>Dividends</th>\n",
              "      <th>Stock Splits</th>\n",
              "      <th>Capital Gains</th>\n",
              "    </tr>\n",
              "    <tr>\n",
              "      <th>Date</th>\n",
              "      <th></th>\n",
              "      <th></th>\n",
              "      <th></th>\n",
              "      <th></th>\n",
              "      <th></th>\n",
              "      <th></th>\n",
              "      <th></th>\n",
              "      <th></th>\n",
              "    </tr>\n",
              "  </thead>\n",
              "  <tbody>\n",
              "    <tr>\n",
              "      <th>2018-01-16 00:00:00-05:00</th>\n",
              "      <td>256.480603</td>\n",
              "      <td>257.160013</td>\n",
              "      <td>253.570107</td>\n",
              "      <td>254.295441</td>\n",
              "      <td>106555100</td>\n",
              "      <td>0.0</td>\n",
              "      <td>0.0</td>\n",
              "      <td>0.0</td>\n",
              "    </tr>\n",
              "    <tr>\n",
              "      <th>2018-01-17 00:00:00-05:00</th>\n",
              "      <td>255.268600</td>\n",
              "      <td>257.123219</td>\n",
              "      <td>254.295381</td>\n",
              "      <td>256.719238</td>\n",
              "      <td>113258800</td>\n",
              "      <td>0.0</td>\n",
              "      <td>0.0</td>\n",
              "      <td>0.0</td>\n",
              "    </tr>\n",
              "    <tr>\n",
              "      <th>2018-01-18 00:00:00-05:00</th>\n",
              "      <td>256.599912</td>\n",
              "      <td>257.040598</td>\n",
              "      <td>255.773570</td>\n",
              "      <td>256.287750</td>\n",
              "      <td>100728000</td>\n",
              "      <td>0.0</td>\n",
              "      <td>0.0</td>\n",
              "      <td>0.0</td>\n",
              "    </tr>\n",
              "    <tr>\n",
              "      <th>2018-01-19 00:00:00-05:00</th>\n",
              "      <td>256.893660</td>\n",
              "      <td>257.453735</td>\n",
              "      <td>256.287716</td>\n",
              "      <td>257.453735</td>\n",
              "      <td>140920100</td>\n",
              "      <td>0.0</td>\n",
              "      <td>0.0</td>\n",
              "      <td>0.0</td>\n",
              "    </tr>\n",
              "    <tr>\n",
              "      <th>2018-01-22 00:00:00-05:00</th>\n",
              "      <td>257.233373</td>\n",
              "      <td>259.547058</td>\n",
              "      <td>257.178259</td>\n",
              "      <td>259.547058</td>\n",
              "      <td>91322400</td>\n",
              "      <td>0.0</td>\n",
              "      <td>0.0</td>\n",
              "      <td>0.0</td>\n",
              "    </tr>\n",
              "  </tbody>\n",
              "</table>\n",
              "</div>\n",
              "      <button class=\"colab-df-convert\" onclick=\"convertToInteractive('df-e434ce1a-3990-498b-8a82-5538d661da8b')\"\n",
              "              title=\"Convert this dataframe to an interactive table.\"\n",
              "              style=\"display:none;\">\n",
              "        \n",
              "  <svg xmlns=\"http://www.w3.org/2000/svg\" height=\"24px\"viewBox=\"0 0 24 24\"\n",
              "       width=\"24px\">\n",
              "    <path d=\"M0 0h24v24H0V0z\" fill=\"none\"/>\n",
              "    <path d=\"M18.56 5.44l.94 2.06.94-2.06 2.06-.94-2.06-.94-.94-2.06-.94 2.06-2.06.94zm-11 1L8.5 8.5l.94-2.06 2.06-.94-2.06-.94L8.5 2.5l-.94 2.06-2.06.94zm10 10l.94 2.06.94-2.06 2.06-.94-2.06-.94-.94-2.06-.94 2.06-2.06.94z\"/><path d=\"M17.41 7.96l-1.37-1.37c-.4-.4-.92-.59-1.43-.59-.52 0-1.04.2-1.43.59L10.3 9.45l-7.72 7.72c-.78.78-.78 2.05 0 2.83L4 21.41c.39.39.9.59 1.41.59.51 0 1.02-.2 1.41-.59l7.78-7.78 2.81-2.81c.8-.78.8-2.07 0-2.86zM5.41 20L4 18.59l7.72-7.72 1.47 1.35L5.41 20z\"/>\n",
              "  </svg>\n",
              "      </button>\n",
              "      \n",
              "  <style>\n",
              "    .colab-df-container {\n",
              "      display:flex;\n",
              "      flex-wrap:wrap;\n",
              "      gap: 12px;\n",
              "    }\n",
              "\n",
              "    .colab-df-convert {\n",
              "      background-color: #E8F0FE;\n",
              "      border: none;\n",
              "      border-radius: 50%;\n",
              "      cursor: pointer;\n",
              "      display: none;\n",
              "      fill: #1967D2;\n",
              "      height: 32px;\n",
              "      padding: 0 0 0 0;\n",
              "      width: 32px;\n",
              "    }\n",
              "\n",
              "    .colab-df-convert:hover {\n",
              "      background-color: #E2EBFA;\n",
              "      box-shadow: 0px 1px 2px rgba(60, 64, 67, 0.3), 0px 1px 3px 1px rgba(60, 64, 67, 0.15);\n",
              "      fill: #174EA6;\n",
              "    }\n",
              "\n",
              "    [theme=dark] .colab-df-convert {\n",
              "      background-color: #3B4455;\n",
              "      fill: #D2E3FC;\n",
              "    }\n",
              "\n",
              "    [theme=dark] .colab-df-convert:hover {\n",
              "      background-color: #434B5C;\n",
              "      box-shadow: 0px 1px 3px 1px rgba(0, 0, 0, 0.15);\n",
              "      filter: drop-shadow(0px 1px 2px rgba(0, 0, 0, 0.3));\n",
              "      fill: #FFFFFF;\n",
              "    }\n",
              "  </style>\n",
              "\n",
              "      <script>\n",
              "        const buttonEl =\n",
              "          document.querySelector('#df-e434ce1a-3990-498b-8a82-5538d661da8b button.colab-df-convert');\n",
              "        buttonEl.style.display =\n",
              "          google.colab.kernel.accessAllowed ? 'block' : 'none';\n",
              "\n",
              "        async function convertToInteractive(key) {\n",
              "          const element = document.querySelector('#df-e434ce1a-3990-498b-8a82-5538d661da8b');\n",
              "          const dataTable =\n",
              "            await google.colab.kernel.invokeFunction('convertToInteractive',\n",
              "                                                     [key], {});\n",
              "          if (!dataTable) return;\n",
              "\n",
              "          const docLinkHtml = 'Like what you see? Visit the ' +\n",
              "            '<a target=\"_blank\" href=https://colab.research.google.com/notebooks/data_table.ipynb>data table notebook</a>'\n",
              "            + ' to learn more about interactive tables.';\n",
              "          element.innerHTML = '';\n",
              "          dataTable['output_type'] = 'display_data';\n",
              "          await google.colab.output.renderOutput(dataTable, element);\n",
              "          const docLink = document.createElement('div');\n",
              "          docLink.innerHTML = docLinkHtml;\n",
              "          element.appendChild(docLink);\n",
              "        }\n",
              "      </script>\n",
              "    </div>\n",
              "  </div>\n",
              "  "
            ]
          },
          "metadata": {},
          "execution_count": 8
        }
      ]
    },
    {
      "cell_type": "markdown",
      "source": [
        "## Columnas del conjunto de datos\n",
        "\n",
        "* **Open**:  Open indica el precio de apertura es el primer precio al que se negocia una acción cuando el mercado abre a las 9:30 a. m.4:00 p. m.\n",
        "\n",
        "* **High**: High es el precio máximo del día, que se refiere al precio de cotización más alto de la acción. Está representado por el punto más alto en el gráfico de acciones de un día.\n",
        "\n",
        "* **Low**:  Low es el mínimo de la acción del día, que es el precio mínimo intradiario del día de negociación.\n",
        "\n",
        "* **Close**: Close es el precio de cierre es el último precio al que se negocia cuando el mercado cierra a las 4:00 p.m.\n",
        "\n",
        "* **Volume**: El volumen es la cantidad de acciones negociadas en una acción, índice u otra inversión en particular durante un período de tiempo específico.\n",
        "* **Dividends**: Los dividendos son pagos que hace una empresa para compartir las ganancias con sus accionistas.\n",
        "\n",
        "* **Stock Splits**: Una división de acciones es una acción corporativa que las empresas toman para aumentar el número de acciones en circulación y disminuir el valor de cada acción.\n",
        "\n",
        "* **Capital Gains**: La ganancia de capital es la ganancia que uno obtiene por la venta de un activo como acciones, bonos o bienes raíces.\n",
        "\n",
        "Todas las columnas manejan tipo de dato float menos volume que es int. La fecha se maneja como índice y es datetime"
      ],
      "metadata": {
        "id": "Zb905BUp8tCx"
      }
    },
    {
      "cell_type": "markdown",
      "source": [
        "### Tipo de dato \n",
        "\n",
        "El tipo de dato no hace falta cambiarlo ya que esta bien especificado al momento de leerlo."
      ],
      "metadata": {
        "id": "kj1Vaxvr-hTz"
      }
    },
    {
      "cell_type": "code",
      "source": [
        "sp500_df.info()"
      ],
      "metadata": {
        "colab": {
          "base_uri": "https://localhost:8080/"
        },
        "id": "MRSJmBfWwxLn",
        "outputId": "c89303eb-4944-4383-b771-eec53b410928"
      },
      "execution_count": 9,
      "outputs": [
        {
          "output_type": "stream",
          "name": "stdout",
          "text": [
            "<class 'pandas.core.frame.DataFrame'>\n",
            "DatetimeIndex: 1259 entries, 2018-01-16 00:00:00-05:00 to 2023-01-13 00:00:00-05:00\n",
            "Data columns (total 8 columns):\n",
            " #   Column         Non-Null Count  Dtype  \n",
            "---  ------         --------------  -----  \n",
            " 0   Open           1259 non-null   float64\n",
            " 1   High           1259 non-null   float64\n",
            " 2   Low            1259 non-null   float64\n",
            " 3   Close          1259 non-null   float64\n",
            " 4   Volume         1259 non-null   int64  \n",
            " 5   Dividends      1259 non-null   float64\n",
            " 6   Stock Splits   1259 non-null   float64\n",
            " 7   Capital Gains  1259 non-null   float64\n",
            "dtypes: float64(7), int64(1)\n",
            "memory usage: 120.8 KB\n"
          ]
        }
      ]
    },
    {
      "cell_type": "code",
      "source": [
        "sp500_df.shape"
      ],
      "metadata": {
        "colab": {
          "base_uri": "https://localhost:8080/"
        },
        "id": "ftyK_W64wxJX",
        "outputId": "d989bbf2-1528-446e-a2ed-3469a723dcca"
      },
      "execution_count": 10,
      "outputs": [
        {
          "output_type": "execute_result",
          "data": {
            "text/plain": [
              "(1259, 8)"
            ]
          },
          "metadata": {},
          "execution_count": 10
        }
      ]
    },
    {
      "cell_type": "code",
      "source": [
        "#for 1 day lookback\n",
        "sp500_df['returns'] = sp500_df.Close.shift(1) / sp500_df.Close - 1\n",
        "sp500_df.head()"
      ],
      "metadata": {
        "colab": {
          "base_uri": "https://localhost:8080/",
          "height": 386
        },
        "id": "F-Yy-qpdwxGh",
        "outputId": "c0b3c6d5-5927-4a0d-d8f4-22c2f6805400"
      },
      "execution_count": 13,
      "outputs": [
        {
          "output_type": "execute_result",
          "data": {
            "text/plain": [
              "                                 Open        High         Low       Close  \\\n",
              "Date                                                                        \n",
              "2018-01-16 00:00:00-05:00  256.480603  257.160013  253.570107  254.295441   \n",
              "2018-01-17 00:00:00-05:00  255.268600  257.123219  254.295381  256.719238   \n",
              "2018-01-18 00:00:00-05:00  256.599912  257.040598  255.773570  256.287750   \n",
              "2018-01-19 00:00:00-05:00  256.893660  257.453735  256.287716  257.453735   \n",
              "2018-01-22 00:00:00-05:00  257.233373  259.547058  257.178259  259.547058   \n",
              "\n",
              "                              Volume  Dividends  Stock Splits  Capital Gains  \\\n",
              "Date                                                                           \n",
              "2018-01-16 00:00:00-05:00  106555100        0.0           0.0            0.0   \n",
              "2018-01-17 00:00:00-05:00  113258800        0.0           0.0            0.0   \n",
              "2018-01-18 00:00:00-05:00  100728000        0.0           0.0            0.0   \n",
              "2018-01-19 00:00:00-05:00  140920100        0.0           0.0            0.0   \n",
              "2018-01-22 00:00:00-05:00   91322400        0.0           0.0            0.0   \n",
              "\n",
              "                            returns  \n",
              "Date                                 \n",
              "2018-01-16 00:00:00-05:00       NaN  \n",
              "2018-01-17 00:00:00-05:00 -0.009441  \n",
              "2018-01-18 00:00:00-05:00  0.001684  \n",
              "2018-01-19 00:00:00-05:00 -0.004529  \n",
              "2018-01-22 00:00:00-05:00 -0.008065  "
            ],
            "text/html": [
              "\n",
              "  <div id=\"df-a9c91643-ade0-4849-a7c2-96abc4acb780\">\n",
              "    <div class=\"colab-df-container\">\n",
              "      <div>\n",
              "<style scoped>\n",
              "    .dataframe tbody tr th:only-of-type {\n",
              "        vertical-align: middle;\n",
              "    }\n",
              "\n",
              "    .dataframe tbody tr th {\n",
              "        vertical-align: top;\n",
              "    }\n",
              "\n",
              "    .dataframe thead th {\n",
              "        text-align: right;\n",
              "    }\n",
              "</style>\n",
              "<table border=\"1\" class=\"dataframe\">\n",
              "  <thead>\n",
              "    <tr style=\"text-align: right;\">\n",
              "      <th></th>\n",
              "      <th>Open</th>\n",
              "      <th>High</th>\n",
              "      <th>Low</th>\n",
              "      <th>Close</th>\n",
              "      <th>Volume</th>\n",
              "      <th>Dividends</th>\n",
              "      <th>Stock Splits</th>\n",
              "      <th>Capital Gains</th>\n",
              "      <th>returns</th>\n",
              "    </tr>\n",
              "    <tr>\n",
              "      <th>Date</th>\n",
              "      <th></th>\n",
              "      <th></th>\n",
              "      <th></th>\n",
              "      <th></th>\n",
              "      <th></th>\n",
              "      <th></th>\n",
              "      <th></th>\n",
              "      <th></th>\n",
              "      <th></th>\n",
              "    </tr>\n",
              "  </thead>\n",
              "  <tbody>\n",
              "    <tr>\n",
              "      <th>2018-01-16 00:00:00-05:00</th>\n",
              "      <td>256.480603</td>\n",
              "      <td>257.160013</td>\n",
              "      <td>253.570107</td>\n",
              "      <td>254.295441</td>\n",
              "      <td>106555100</td>\n",
              "      <td>0.0</td>\n",
              "      <td>0.0</td>\n",
              "      <td>0.0</td>\n",
              "      <td>NaN</td>\n",
              "    </tr>\n",
              "    <tr>\n",
              "      <th>2018-01-17 00:00:00-05:00</th>\n",
              "      <td>255.268600</td>\n",
              "      <td>257.123219</td>\n",
              "      <td>254.295381</td>\n",
              "      <td>256.719238</td>\n",
              "      <td>113258800</td>\n",
              "      <td>0.0</td>\n",
              "      <td>0.0</td>\n",
              "      <td>0.0</td>\n",
              "      <td>-0.009441</td>\n",
              "    </tr>\n",
              "    <tr>\n",
              "      <th>2018-01-18 00:00:00-05:00</th>\n",
              "      <td>256.599912</td>\n",
              "      <td>257.040598</td>\n",
              "      <td>255.773570</td>\n",
              "      <td>256.287750</td>\n",
              "      <td>100728000</td>\n",
              "      <td>0.0</td>\n",
              "      <td>0.0</td>\n",
              "      <td>0.0</td>\n",
              "      <td>0.001684</td>\n",
              "    </tr>\n",
              "    <tr>\n",
              "      <th>2018-01-19 00:00:00-05:00</th>\n",
              "      <td>256.893660</td>\n",
              "      <td>257.453735</td>\n",
              "      <td>256.287716</td>\n",
              "      <td>257.453735</td>\n",
              "      <td>140920100</td>\n",
              "      <td>0.0</td>\n",
              "      <td>0.0</td>\n",
              "      <td>0.0</td>\n",
              "      <td>-0.004529</td>\n",
              "    </tr>\n",
              "    <tr>\n",
              "      <th>2018-01-22 00:00:00-05:00</th>\n",
              "      <td>257.233373</td>\n",
              "      <td>259.547058</td>\n",
              "      <td>257.178259</td>\n",
              "      <td>259.547058</td>\n",
              "      <td>91322400</td>\n",
              "      <td>0.0</td>\n",
              "      <td>0.0</td>\n",
              "      <td>0.0</td>\n",
              "      <td>-0.008065</td>\n",
              "    </tr>\n",
              "  </tbody>\n",
              "</table>\n",
              "</div>\n",
              "      <button class=\"colab-df-convert\" onclick=\"convertToInteractive('df-a9c91643-ade0-4849-a7c2-96abc4acb780')\"\n",
              "              title=\"Convert this dataframe to an interactive table.\"\n",
              "              style=\"display:none;\">\n",
              "        \n",
              "  <svg xmlns=\"http://www.w3.org/2000/svg\" height=\"24px\"viewBox=\"0 0 24 24\"\n",
              "       width=\"24px\">\n",
              "    <path d=\"M0 0h24v24H0V0z\" fill=\"none\"/>\n",
              "    <path d=\"M18.56 5.44l.94 2.06.94-2.06 2.06-.94-2.06-.94-.94-2.06-.94 2.06-2.06.94zm-11 1L8.5 8.5l.94-2.06 2.06-.94-2.06-.94L8.5 2.5l-.94 2.06-2.06.94zm10 10l.94 2.06.94-2.06 2.06-.94-2.06-.94-.94-2.06-.94 2.06-2.06.94z\"/><path d=\"M17.41 7.96l-1.37-1.37c-.4-.4-.92-.59-1.43-.59-.52 0-1.04.2-1.43.59L10.3 9.45l-7.72 7.72c-.78.78-.78 2.05 0 2.83L4 21.41c.39.39.9.59 1.41.59.51 0 1.02-.2 1.41-.59l7.78-7.78 2.81-2.81c.8-.78.8-2.07 0-2.86zM5.41 20L4 18.59l7.72-7.72 1.47 1.35L5.41 20z\"/>\n",
              "  </svg>\n",
              "      </button>\n",
              "      \n",
              "  <style>\n",
              "    .colab-df-container {\n",
              "      display:flex;\n",
              "      flex-wrap:wrap;\n",
              "      gap: 12px;\n",
              "    }\n",
              "\n",
              "    .colab-df-convert {\n",
              "      background-color: #E8F0FE;\n",
              "      border: none;\n",
              "      border-radius: 50%;\n",
              "      cursor: pointer;\n",
              "      display: none;\n",
              "      fill: #1967D2;\n",
              "      height: 32px;\n",
              "      padding: 0 0 0 0;\n",
              "      width: 32px;\n",
              "    }\n",
              "\n",
              "    .colab-df-convert:hover {\n",
              "      background-color: #E2EBFA;\n",
              "      box-shadow: 0px 1px 2px rgba(60, 64, 67, 0.3), 0px 1px 3px 1px rgba(60, 64, 67, 0.15);\n",
              "      fill: #174EA6;\n",
              "    }\n",
              "\n",
              "    [theme=dark] .colab-df-convert {\n",
              "      background-color: #3B4455;\n",
              "      fill: #D2E3FC;\n",
              "    }\n",
              "\n",
              "    [theme=dark] .colab-df-convert:hover {\n",
              "      background-color: #434B5C;\n",
              "      box-shadow: 0px 1px 3px 1px rgba(0, 0, 0, 0.15);\n",
              "      filter: drop-shadow(0px 1px 2px rgba(0, 0, 0, 0.3));\n",
              "      fill: #FFFFFF;\n",
              "    }\n",
              "  </style>\n",
              "\n",
              "      <script>\n",
              "        const buttonEl =\n",
              "          document.querySelector('#df-a9c91643-ade0-4849-a7c2-96abc4acb780 button.colab-df-convert');\n",
              "        buttonEl.style.display =\n",
              "          google.colab.kernel.accessAllowed ? 'block' : 'none';\n",
              "\n",
              "        async function convertToInteractive(key) {\n",
              "          const element = document.querySelector('#df-a9c91643-ade0-4849-a7c2-96abc4acb780');\n",
              "          const dataTable =\n",
              "            await google.colab.kernel.invokeFunction('convertToInteractive',\n",
              "                                                     [key], {});\n",
              "          if (!dataTable) return;\n",
              "\n",
              "          const docLinkHtml = 'Like what you see? Visit the ' +\n",
              "            '<a target=\"_blank\" href=https://colab.research.google.com/notebooks/data_table.ipynb>data table notebook</a>'\n",
              "            + ' to learn more about interactive tables.';\n",
              "          element.innerHTML = '';\n",
              "          dataTable['output_type'] = 'display_data';\n",
              "          await google.colab.output.renderOutput(dataTable, element);\n",
              "          const docLink = document.createElement('div');\n",
              "          docLink.innerHTML = docLinkHtml;\n",
              "          element.appendChild(docLink);\n",
              "        }\n",
              "      </script>\n",
              "    </div>\n",
              "  </div>\n",
              "  "
            ]
          },
          "metadata": {},
          "execution_count": 13
        }
      ]
    },
    {
      "cell_type": "code",
      "source": [],
      "metadata": {
        "id": "BI8CIeI3ww_2"
      },
      "execution_count": null,
      "outputs": []
    },
    {
      "cell_type": "markdown",
      "source": [
        "Recursos que aportan información acerca del proyecto en mente.\n",
        "\n",
        "https://www.analyticsvidhya.com/blog/2021/06/download-financial-dataset-using-yahoo-finance-in-python-a-complete-guide/\n",
        "https://towardsdatascience.com/stock-market-action-prediction-with-convnet-8689238feae3\n",
        "https://github.com/Nishesh2115/Stock-Prediction-Project/blob/main/STOCK_ENTRY_EXIT_PREDICTION_ipynb%28AAIC_PROJECT%29.ipynb"
      ],
      "metadata": {
        "id": "FKszUOr-Bsvy"
      }
    },
    {
      "cell_type": "code",
      "source": [],
      "metadata": {
        "id": "M3U_yy6RBYJr"
      },
      "execution_count": null,
      "outputs": []
    }
  ]
}